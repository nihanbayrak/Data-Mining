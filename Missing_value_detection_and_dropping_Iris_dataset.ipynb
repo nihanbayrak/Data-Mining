{
 "cells": [
  {
   "cell_type": "code",
   "execution_count": 9,
   "id": "c551db62",
   "metadata": {},
   "outputs": [
    {
     "name": "stdout",
     "output_type": "stream",
     "text": [
      "Index(['sepal length (cm)', 'sepal width (cm)', 'petal length (cm)',\n",
      "       'petal width (cm)'],\n",
      "      dtype='object')\n",
      "\n",
      "\n",
      "     sepal length (cm)  sepal width (cm)  petal length (cm)  petal width (cm)\n",
      "0                  5.1               3.5                1.4               NaN\n",
      "1                  4.9               3.0                1.4               NaN\n",
      "2                  4.7               3.2                1.3               NaN\n",
      "3                  4.6               3.1                1.5               NaN\n",
      "4                  5.0               3.6                1.4               NaN\n",
      "..                 ...               ...                ...               ...\n",
      "145                6.7               3.0                5.2               2.3\n",
      "146                6.3               2.5                5.0               1.9\n",
      "147                6.5               3.0                5.2               2.0\n",
      "148                6.2               3.4                5.4               2.3\n",
      "149                5.9               3.0                5.1               1.8\n",
      "\n",
      "[150 rows x 4 columns]\n"
     ]
    }
   ],
   "source": [
    "import pandas as pd\n",
    "from sklearn.datasets import load_iris\n",
    "import numpy as np\n",
    "# Load the Iris dataset\n",
    "iris = load_iris()\n",
    "\n",
    "# Convert the numpy array to a DataFrame using pandas\n",
    "iris_df = pd.DataFrame(data=iris.data, columns=iris.feature_names)\n",
    "\n",
    "\n",
    "# Write the iris_df DataFrame to a CSV file\n",
    "iris_df.to_csv('iris_data.csv', index=False)\n",
    "\n",
    "\n",
    "# Write the iris_df DataFrame to a CSV file\n",
    "iris_df.to_csv('iris_data.csv', index=False)\n",
    "#For to use the \"na_values\" parameter in read_csv to specify missing values.\n",
    "\n",
    "\n",
    "# Read the CSV file\n",
    "# Viewing rows containing \"0.2\" or \"?\" using the na_values parameter.\n",
    "iris_df_from_csv = pd.read_csv('iris_data.csv', na_values=['0.2'])\n",
    "# I represented a number in a column as a NaN value as there are no missing values in the iris dataset.\n",
    "#iris_df_from_csv = pd.read_csv('iris_data.csv', na_values={'sepal length (cm)': 0.2})\n",
    "\n",
    "names= iris_df_from_csv.columns\n",
    "print(names)\n",
    "\n",
    "print(\"\\n\")\n",
    "\n",
    "print(iris_df_from_csv)\n",
    "\n"
   ]
  },
  {
   "cell_type": "code",
   "execution_count": 7,
   "id": "22b3d1d4",
   "metadata": {},
   "outputs": [
    {
     "data": {
      "text/plain": [
       "(150, 4)"
      ]
     },
     "execution_count": 7,
     "metadata": {},
     "output_type": "execute_result"
    }
   ],
   "source": [
    "#checking the row and column length of the iris_df_from_csv\n",
    "iris_df_from_csv.shape"
   ]
  },
  {
   "cell_type": "code",
   "execution_count": 11,
   "id": "dfacfa75",
   "metadata": {},
   "outputs": [
    {
     "name": "stdout",
     "output_type": "stream",
     "text": [
      "sepal length (cm)     0\n",
      "sepal width (cm)      0\n",
      "petal length (cm)     0\n",
      "petal width (cm)     29\n",
      "dtype: int64\n"
     ]
    }
   ],
   "source": [
    "#The number of NaN values per feature can be determined as follows:\n",
    "print(np.isnan(iris_df_from_csv).sum())"
   ]
  },
  {
   "cell_type": "code",
   "execution_count": 12,
   "id": "34647811",
   "metadata": {},
   "outputs": [
    {
     "name": "stdout",
     "output_type": "stream",
     "text": [
      "     sepal length (cm)  sepal width (cm)  petal length (cm)  petal width (cm)\n",
      "5                  5.4               3.9                1.7               0.4\n",
      "6                  4.6               3.4                1.4               0.3\n",
      "9                  4.9               3.1                1.5               0.1\n",
      "12                 4.8               3.0                1.4               0.1\n",
      "13                 4.3               3.0                1.1               0.1\n",
      "..                 ...               ...                ...               ...\n",
      "145                6.7               3.0                5.2               2.3\n",
      "146                6.3               2.5                5.0               1.9\n",
      "147                6.5               3.0                5.2               2.0\n",
      "148                6.2               3.4                5.4               2.3\n",
      "149                5.9               3.0                5.1               1.8\n",
      "\n",
      "[121 rows x 4 columns]\n"
     ]
    }
   ],
   "source": [
    "# deleting rows which contains NaN values\n",
    "iris_df_from_csv.dropna(inplace=True)\n",
    "print(iris_df_from_csv)"
   ]
  },
  {
   "cell_type": "code",
   "execution_count": null,
   "id": "ef72a95c",
   "metadata": {},
   "outputs": [],
   "source": []
  }
 ],
 "metadata": {
  "kernelspec": {
   "display_name": "Python 3 (ipykernel)",
   "language": "python",
   "name": "python3"
  },
  "language_info": {
   "codemirror_mode": {
    "name": "ipython",
    "version": 3
   },
   "file_extension": ".py",
   "mimetype": "text/x-python",
   "name": "python",
   "nbconvert_exporter": "python",
   "pygments_lexer": "ipython3",
   "version": "3.10.4"
  }
 },
 "nbformat": 4,
 "nbformat_minor": 5
}
